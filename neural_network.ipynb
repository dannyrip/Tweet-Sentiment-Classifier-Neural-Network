{
 "cells": [
  {
   "cell_type": "markdown",
   "id": "698ad9e7",
   "metadata": {},
   "source": [
    "Ζαχαριουδάκη Αικατερίνη Μεθοδία\n",
    "\n",
    "ΑΜ 1115201900060"
   ]
  },
  {
   "cell_type": "code",
   "execution_count": 1,
   "id": "ea5c05a8",
   "metadata": {
    "execution": {
     "iopub.execute_input": "2025-05-18T17:29:28.765037Z",
     "iopub.status.busy": "2025-05-18T17:29:28.764822Z",
     "iopub.status.idle": "2025-05-18T17:30:09.622269Z",
     "shell.execute_reply": "2025-05-18T17:30:09.621623Z"
    },
    "papermill": {
     "duration": 40.863383,
     "end_time": "2025-05-18T17:30:09.623733",
     "exception": false,
     "start_time": "2025-05-18T17:29:28.760350",
     "status": "completed"
    },
    "tags": []
   },
   "outputs": [
    {
     "name": "stdout",
     "output_type": "stream",
     "text": [
      "Archive:  /usr/share/nltk_data/corpora/wordnet.zip\r\n",
      "   creating: /usr/share/nltk_data/corpora/wordnet/\r\n",
      "  inflating: /usr/share/nltk_data/corpora/wordnet/lexnames  \r\n",
      "  inflating: /usr/share/nltk_data/corpora/wordnet/data.verb  \r\n",
      "  inflating: /usr/share/nltk_data/corpora/wordnet/index.adv  \r\n",
      "  inflating: /usr/share/nltk_data/corpora/wordnet/adv.exc  \r\n",
      "  inflating: /usr/share/nltk_data/corpora/wordnet/index.verb  \r\n",
      "  inflating: /usr/share/nltk_data/corpora/wordnet/cntlist.rev  \r\n",
      "  inflating: /usr/share/nltk_data/corpora/wordnet/data.adj  \r\n",
      "  inflating: /usr/share/nltk_data/corpora/wordnet/index.adj  \r\n",
      "  inflating: /usr/share/nltk_data/corpora/wordnet/LICENSE  \r\n",
      "  inflating: /usr/share/nltk_data/corpora/wordnet/citation.bib  \r\n",
      "  inflating: /usr/share/nltk_data/corpora/wordnet/noun.exc  \r\n",
      "  inflating: /usr/share/nltk_data/corpora/wordnet/verb.exc  \r\n",
      "  inflating: /usr/share/nltk_data/corpora/wordnet/README  \r\n",
      "  inflating: /usr/share/nltk_data/corpora/wordnet/index.sense  \r\n",
      "  inflating: /usr/share/nltk_data/corpora/wordnet/data.noun  \r\n",
      "  inflating: /usr/share/nltk_data/corpora/wordnet/data.adv  \r\n",
      "  inflating: /usr/share/nltk_data/corpora/wordnet/index.noun  \r\n",
      "  inflating: /usr/share/nltk_data/corpora/wordnet/adj.exc  \r\n"
     ]
    }
   ],
   "source": [
    "import re\n",
    "import random\n",
    "import os\n",
    "import warnings\n",
    "import numpy as np\n",
    "import pandas as pd\n",
    "import matplotlib.pyplot as plt\n",
    "import seaborn as sns\n",
    "\n",
    "# for downloading nltk data in Kaggle\n",
    "!unzip /usr/share/nltk_data/corpora/wordnet.zip -d /usr/share/nltk_data/corpora/\n",
    "import emoji\n",
    "# from nltk.corpus import stopwords\n",
    "from nltk.stem import WordNetLemmatizer\n",
    "\n",
    "import optuna\n",
    "from gensim.models import KeyedVectors\n",
    "import gensim.downloader as api\n",
    "import torch\n",
    "import torch.nn as nn\n",
    "import torch.nn.functional as F\n",
    "from torch.utils.data import TensorDataset, DataLoader, Dataset\n",
    "from sklearn.metrics import accuracy_score, precision_score, recall_score, f1_score, confusion_matrix\n",
    "from sklearn.metrics import roc_curve, auc"
   ]
  },
  {
   "cell_type": "markdown",
   "id": "71b33b01",
   "metadata": {
    "papermill": {
     "duration": 0.00323,
     "end_time": "2025-05-18T17:30:09.631276",
     "exception": false,
     "start_time": "2025-05-18T17:30:09.628046",
     "status": "completed"
    },
    "tags": []
   },
   "source": [
    "## Load Data"
   ]
  },
  {
   "cell_type": "code",
   "execution_count": 2,
   "id": "28c69d6c",
   "metadata": {
    "execution": {
     "iopub.execute_input": "2025-05-18T17:30:09.639113Z",
     "iopub.status.busy": "2025-05-18T17:30:09.638667Z",
     "iopub.status.idle": "2025-05-18T17:30:10.125634Z",
     "shell.execute_reply": "2025-05-18T17:30:10.124791Z"
    },
    "papermill": {
     "duration": 0.49253,
     "end_time": "2025-05-18T17:30:10.127096",
     "exception": false,
     "start_time": "2025-05-18T17:30:09.634566",
     "status": "completed"
    },
    "tags": []
   },
   "outputs": [],
   "source": [
    "# local input\n",
    "# train_data = pd.read_csv('train_dataset.csv')\n",
    "# val_data = pd.read_csv('val_dataset.csv')\n",
    "# test_data = pd.read_csv('test_dataset.csv')\n",
    "\n",
    "# kaggle input\n",
    "train_data = pd.read_csv('/kaggle/input/ai-2-dl-for-nlp-2025-homework-2/train_dataset.csv')\n",
    "val_data = pd.read_csv('/kaggle/input/ai-2-dl-for-nlp-2025-homework-2/val_dataset.csv')\n",
    "test_data = pd.read_csv('/kaggle/input/ai-2-dl-for-nlp-2025-homework-2/test_dataset.csv')"
   ]
  },
  {
   "cell_type": "markdown",
   "id": "202e4cc6",
   "metadata": {
    "papermill": {
     "duration": 0.003285,
     "end_time": "2025-05-18T17:30:10.134015",
     "exception": false,
     "start_time": "2025-05-18T17:30:10.130730",
     "status": "completed"
    },
    "tags": []
   },
   "source": [
    "## Text Preprocessing"
   ]
  },
  {
   "cell_type": "code",
   "execution_count": null,
   "id": "3ac339de",
   "metadata": {
    "execution": {
     "iopub.execute_input": "2025-05-18T17:30:10.141481Z",
     "iopub.status.busy": "2025-05-18T17:30:10.141266Z",
     "iopub.status.idle": "2025-05-18T17:30:48.624344Z",
     "shell.execute_reply": "2025-05-18T17:30:48.623461Z"
    },
    "papermill": {
     "duration": 38.488588,
     "end_time": "2025-05-18T17:30:48.625886",
     "exception": false,
     "start_time": "2025-05-18T17:30:10.137298",
     "status": "completed"
    },
    "tags": []
   },
   "outputs": [],
   "source": [
    "def preprocess_text(text):\n",
    "    emoticons = {\n",
    "        ':)': ' smile ',\n",
    "        ':-)': ' smile ',\n",
    "        ':(': ' sad ',\n",
    "        ':-(': ' sad ',\n",
    "        ':D': ' laugh ',\n",
    "        ':-D': ' laugh ',\n",
    "        ':P': ' playful ',\n",
    "        ':-P': ' playful ',\n",
    "        ';)': ' wink ',\n",
    "        ';-)': ' wink ',\n",
    "        \":'(\": ' cry ',\n",
    "        ':-/': ' skeptical ',\n",
    "        ':/': ' skeptical ',\n",
    "        ':|': ' neutral ',\n",
    "        ':-|': ' neutral ',\n",
    "        ':O': ' surprised ',\n",
    "        ':-O': ' surprised ',\n",
    "        ':*': ' kiss ',\n",
    "        ':-*': ' kiss ',\n",
    "        'xd': ' laugh ',\n",
    "    }\n",
    "    def replace_emoticons(text):\n",
    "        for emoticon, replacement in emoticons.items():\n",
    "            text = text.replace(emoticon, replacement)\n",
    "        return text\n",
    "    \n",
    "    text = emoji.demojize(text)\n",
    "    text = replace_emoticons(text)\n",
    "    \n",
    "    text = text.lower()\n",
    "\n",
    "    # remove tags, urls, html entities, emails, time\n",
    "    text,_ = re.subn(r'\\B@\\S+', ' user ', text)\n",
    "    text,_ = re.subn(r'https?:\\S+', ' link ', text)\n",
    "    text,_ = re.subn(r'www.\\S+', ' link ', text)\n",
    "    text,_ = re.subn(r'&\\w+;', '', text)\n",
    "    text,_ = re.subn(r'\\S+@\\S+\\.\\S+', '', text)\n",
    "    text,_ = re.subn(r'([0-1]?[0-9]|[2][0-3]):([0-5][0-9])0', ' time ', text)\n",
    "\n",
    "    # remove contractions\n",
    "    text,_ = re.subn(r'\\'', '', text)\n",
    "\n",
    "    # remove excess letters\n",
    "    pattern = re.compile(r'(.)\\1{2,}')\n",
    "    text = pattern.sub(r'\\1\\1', text)\n",
    "\n",
    "    # replace common abbreviations and slang\n",
    "    text,_ = re.subn(r'\\su\\s', ' you ', text)\n",
    "    text,_ = re.subn(r'\\bwit\\b', ' with ', text)\n",
    "    text,_ = re.subn(r'\\bb\\b', ' be ', text)\n",
    "    text,_ = re.subn(r'\\bxo\\b', ' kiss ', text)\n",
    "    text,_ = re.subn(r'\\bxx\\b', ' kiss ', text)\n",
    "    text,_ = re.subn(r'\\bluv\\b', ' love ', text)\n",
    "    text,_ = re.subn(r'\\bpl[sz]+\\b', ' please ', text)\n",
    "    text,_ = re.subn(r'\\btho\\b', ' though ', text)\n",
    "    text,_ = re.subn(r'\\bthx\\b', ' thank ', text)\n",
    "    text,_ = re.subn(r'\\bsux\\b', ' suck ', text)\n",
    "    text,_ = re.subn(r'\\bgr8\\b', ' great ', text)\n",
    "    text,_ = re.subn(r'\\bb4\\b', ' before ', text)\n",
    "    text,_ = re.subn(r'\\bh8\\b', ' hate ', text)\n",
    "    text,_ = re.subn(r'\\bh8r\\b', ' hater ', text)\n",
    "    text,_ = re.subn(r'\\bw8\\b', ' wait ', text)\n",
    "    text,_ = re.subn(r'\\bstr8\\b', ' straight ', text)\n",
    "    text,_ = re.subn(r'\\b2moro\\b', ' tomorrow ', text)\n",
    "    text,_ = re.subn(r'\\b2day\\b', ' today ', text)\n",
    "    text,_ = re.subn(r'\\b2night\\b', ' tonight ', text)\n",
    "    text,_ = re.subn(r'\\b2nite\\b', ' tonight ', text)\n",
    "    text,_ = re.subn(r'\\b4ever\\b', ' forever ', text)\n",
    "    text,_ = re.subn(r'\\bcu\\b', ' see you ', text)\n",
    "    text,_ = re.subn(r'\\bwkend\\b', ' weekend ', text)\n",
    "    text,_ = re.subn(r'\\bda\\b', ' the ', text)\n",
    "    text,_ = re.subn(r'\\bnd\\b', ' and ', text)\n",
    "    text,_ = re.subn(r'\\bkewl\\b', ' cool ', text)\n",
    "    text,_ = re.subn(r'\\bliek\\b', ' like ', text)\n",
    "    text,_ = re.subn(r'\\bteh\\b', ' the ', text)\n",
    "    text,_ = re.subn(r'\\bwen\\b', ' when ', text)\n",
    "    text,_ = re.subn(r'\\bwat\\b', ' what ', text)\n",
    "    text,_ = re.subn(r'\\bwut\\b', ' what ', text)\n",
    "    text,_ = re.subn(r'\\bbrb\\b', ' be right back ', text)\n",
    "    text,_ = re.subn(r'\\bbbl\\b', ' be back later ', text)\n",
    "    text,_ = re.subn(r'\\bbf\\b', ' boyfriend ', text)\n",
    "    text,_ = re.subn(r'\\bgf\\b', ' girlfriend ', text)\n",
    "    text,_ = re.subn(r'\\bily\\b', ' i love you ', text)\n",
    "    text,_ = re.subn(r'\\bidk\\b', ' i dont know ', text)\n",
    "    text,_ = re.subn(r'\\bimo\\b', ' in my opinion ', text)\n",
    "    text,_ = re.subn(r'\\bb/c\\b', ' because ', text)\n",
    "    text,_ = re.subn(r'\\bbc\\b', ' because ', text)\n",
    "    text,_ = re.subn(r'\\babt\\b', ' about ', text)\n",
    "    text,_ = re.subn(r'\\bbtw\\b', ' by the way ', text)\n",
    "    text,_ = re.subn(r'\\bftw\\b', ' for the win ', text)\n",
    "    text,_ = re.subn(r'\\btbh\\b', ' to be honest ', text)\n",
    "    text,_ = re.subn(r'\\b(a*ha+h[ha]*)\\b', ' laugh ', text)\n",
    "    text,_ = re.subn(r'\\b(o?l+o+l+[ol]*)\\b', ' lol ', text)\n",
    "    text,_ = re.subn(r'\\b(?=lmao)\\S*(\\S+)(?<=\\blmao)\\1*\\b', ' lol ', text)\n",
    "    text,_ = re.subn(r'\\b(?=omg)\\S*(\\S+)(?<=\\bomg)\\1*\\b', ' omg ', text)\n",
    "\n",
    "    # remove numbers\n",
    "    text,_ = re.subn(r'\\b\\d+\\b', '', text)\n",
    "\n",
    "    # remove special characters\n",
    "    text,_ = re.subn(r'[^\\w\\s]',' ', text)\n",
    "    text,_ = re.subn(r'\\s+', ' ', text)\n",
    "    \n",
    "    # lemmatize\n",
    "    text = WordNetLemmatizer().lemmatize(text)\n",
    "\n",
    "    # split into words\n",
    "    text = text.split()\n",
    "\n",
    "    return text\n",
    "\n",
    "train_data['Text'] = train_data['Text'].apply(preprocess_text)\n",
    "val_data['Text'] = val_data['Text'].apply(preprocess_text)\n",
    "test_data['Text'] = test_data['Text'].apply(preprocess_text)"
   ]
  },
  {
   "cell_type": "markdown",
   "id": "bc6bc5e6",
   "metadata": {
    "papermill": {
     "duration": 0.003167,
     "end_time": "2025-05-18T17:30:48.632909",
     "exception": false,
     "start_time": "2025-05-18T17:30:48.629742",
     "status": "completed"
    },
    "tags": []
   },
   "source": [
    "## Vectorization"
   ]
  },
  {
   "cell_type": "code",
   "execution_count": 4,
   "id": "5c61b433",
   "metadata": {
    "execution": {
     "iopub.execute_input": "2025-05-18T17:30:48.640445Z",
     "iopub.status.busy": "2025-05-18T17:30:48.640181Z",
     "iopub.status.idle": "2025-05-18T17:33:29.039139Z",
     "shell.execute_reply": "2025-05-18T17:33:29.038244Z"
    },
    "papermill": {
     "duration": 160.404533,
     "end_time": "2025-05-18T17:33:29.040719",
     "exception": false,
     "start_time": "2025-05-18T17:30:48.636186",
     "status": "completed"
    },
    "tags": []
   },
   "outputs": [],
   "source": [
    "# Load GloVe model locally\n",
    "# glove_file = 'glove.twitter.27B.200d.txt'\n",
    "glove_file = '/kaggle/input/glove-twitter/glove.twitter.27B.200d.txt'\n",
    "w2v_model = KeyedVectors.load_word2vec_format(glove_file, binary=False, no_header=True)\n",
    "\n",
    "# Alternatively, you can use the gensim downloader to load a pre-trained model\n",
    "# w2v_model = api.load(\"glove-twitter-200\")\n",
    "\n",
    "def get_tweet_vector(df):\n",
    "    vectors = []\n",
    "    for i in range(len(df)):\n",
    "        vectors.append(w2v_model.get_mean_vector(df['Text'][i]))\n",
    "    return vectors\n",
    "\n",
    "train_data['Vector'] = get_tweet_vector(train_data)\n",
    "val_data['Vector'] = get_tweet_vector(val_data)\n",
    "test_data['Vector'] = get_tweet_vector(test_data)"
   ]
  },
  {
   "cell_type": "markdown",
   "id": "885ddfa0",
   "metadata": {
    "papermill": {
     "duration": 0.003213,
     "end_time": "2025-05-18T17:33:29.047848",
     "exception": false,
     "start_time": "2025-05-18T17:33:29.044635",
     "status": "completed"
    },
    "tags": []
   },
   "source": [
    "## Data to Torch Datasets"
   ]
  },
  {
   "cell_type": "code",
   "execution_count": 5,
   "id": "f5787d01",
   "metadata": {
    "execution": {
     "iopub.execute_input": "2025-05-18T17:33:29.055379Z",
     "iopub.status.busy": "2025-05-18T17:33:29.055140Z",
     "iopub.status.idle": "2025-05-18T17:33:29.059391Z",
     "shell.execute_reply": "2025-05-18T17:33:29.058814Z"
    },
    "papermill": {
     "duration": 0.009201,
     "end_time": "2025-05-18T17:33:29.060417",
     "exception": false,
     "start_time": "2025-05-18T17:33:29.051216",
     "status": "completed"
    },
    "tags": []
   },
   "outputs": [],
   "source": [
    "class MyDataset(Dataset):\n",
    "    def __init__(self, data):\n",
    "        self.x = data\n",
    "        self.len = len(self.x)\n",
    "\n",
    "    def __len__(self):\n",
    "        return self.len\n",
    "\n",
    "    def __getitem__(self, index):\n",
    "        return self.x[index].to(torch.float32)"
   ]
  },
  {
   "cell_type": "code",
   "execution_count": 6,
   "id": "ab26b72c",
   "metadata": {
    "execution": {
     "iopub.execute_input": "2025-05-18T17:33:29.067548Z",
     "iopub.status.busy": "2025-05-18T17:33:29.067366Z",
     "iopub.status.idle": "2025-05-18T17:33:29.356337Z",
     "shell.execute_reply": "2025-05-18T17:33:29.355506Z"
    },
    "papermill": {
     "duration": 0.294201,
     "end_time": "2025-05-18T17:33:29.357885",
     "exception": false,
     "start_time": "2025-05-18T17:33:29.063684",
     "status": "completed"
    },
    "tags": []
   },
   "outputs": [],
   "source": [
    "X_train = torch.tensor(np.array([x for x in train_data['Vector']]), dtype=torch.float32)\n",
    "X_val = torch.tensor(np.array([x for x in val_data['Vector']]), dtype=torch.float32)\n",
    "X_test = torch.tensor(np.array([x for x in test_data['Vector']]), dtype=torch.float32)\n",
    "\n",
    "y_train = torch.tensor(train_data['Label'].values, dtype=torch.long)\n",
    "y_val = torch.tensor(val_data['Label'].values, dtype=torch.long)\n",
    "\n",
    "train_dataset = TensorDataset(X_train, y_train)\n",
    "val_dataset = TensorDataset(X_val, y_val)\n",
    "test_dataset = MyDataset(X_test)\n",
    "\n",
    "train_dataloader = DataLoader(train_dataset, batch_size=1024, shuffle=True)\n",
    "val_dataloader = DataLoader(val_dataset, batch_size=1024, shuffle=False)\n",
    "test_dataloader = DataLoader(test_dataset, batch_size=1024, shuffle=False)"
   ]
  },
  {
   "cell_type": "markdown",
   "id": "58adb8e0",
   "metadata": {
    "papermill": {
     "duration": 0.004389,
     "end_time": "2025-05-18T17:33:29.366846",
     "exception": false,
     "start_time": "2025-05-18T17:33:29.362457",
     "status": "completed"
    },
    "tags": []
   },
   "source": [
    "## Reproducibility"
   ]
  },
  {
   "cell_type": "code",
   "execution_count": 7,
   "id": "227c5d9f",
   "metadata": {
    "execution": {
     "iopub.execute_input": "2025-05-18T17:33:29.374722Z",
     "iopub.status.busy": "2025-05-18T17:33:29.374482Z",
     "iopub.status.idle": "2025-05-18T17:33:29.378447Z",
     "shell.execute_reply": "2025-05-18T17:33:29.377907Z"
    },
    "papermill": {
     "duration": 0.00881,
     "end_time": "2025-05-18T17:33:29.379452",
     "exception": false,
     "start_time": "2025-05-18T17:33:29.370642",
     "status": "completed"
    },
    "tags": []
   },
   "outputs": [],
   "source": [
    "def torch_seed(seed=42):\n",
    "    random.seed(seed)\n",
    "    np.random.seed(seed)\n",
    "    torch.manual_seed(seed)\n",
    "    torch.backends.cudnn.deterministic = True\n",
    "    torch.backends.cudnn.benchmark = False\n",
    "    torch.cuda.manual_seed_all(seed)\n",
    "    os.environ['PYTHONHASHSEED'] = str(seed)"
   ]
  },
  {
   "cell_type": "markdown",
   "id": "a7e03afc",
   "metadata": {
    "papermill": {
     "duration": 0.003215,
     "end_time": "2025-05-18T17:33:29.385978",
     "exception": false,
     "start_time": "2025-05-18T17:33:29.382763",
     "status": "completed"
    },
    "tags": []
   },
   "source": [
    "## Base Model\n",
    "\n",
    "We define the training and evaluation functions below. Training runs for number of epochs times, each time going through the training data. The evaluation function makes the predictions for the validation set and then calculates the accuracy, f1 score, precision, recall and the confusion matrix."
   ]
  },
  {
   "cell_type": "code",
   "execution_count": 8,
   "id": "85354212",
   "metadata": {
    "execution": {
     "iopub.execute_input": "2025-05-18T17:33:29.393379Z",
     "iopub.status.busy": "2025-05-18T17:33:29.393165Z",
     "iopub.status.idle": "2025-05-18T17:33:29.400560Z",
     "shell.execute_reply": "2025-05-18T17:33:29.400093Z"
    },
    "papermill": {
     "duration": 0.012426,
     "end_time": "2025-05-18T17:33:29.401610",
     "exception": false,
     "start_time": "2025-05-18T17:33:29.389184",
     "status": "completed"
    },
    "tags": []
   },
   "outputs": [],
   "source": [
    "def evaluation(dataloader, model, loss_fn, device, printing=False, plotting=False):\n",
    "    model.eval()\n",
    "    losses = []\n",
    "    predictions = []\n",
    "    labels = []\n",
    "    probs = []\n",
    "\n",
    "    with torch.no_grad():\n",
    "        for (x, y) in dataloader:\n",
    "            x = x.to(device)\n",
    "            y = y.to(device)\n",
    "\n",
    "            pred = model(x)\n",
    "\n",
    "            loss = loss_fn(pred, y.unsqueeze(1).float())\n",
    "            losses.append(loss.item())\n",
    "            pred = torch.sigmoid(pred).squeeze(1)\n",
    "            probs.extend(pred.cpu().numpy())\n",
    "            predictions.extend(torch.round(pred).int().cpu().numpy())\n",
    "            labels.extend(y.cpu().numpy())\n",
    "\n",
    "    mean_loss = np.mean(losses)\n",
    "    f1 = f1_score(labels, predictions)\n",
    "    accuracy = accuracy_score(labels, predictions)\n",
    "    confmatrix = confusion_matrix(labels, predictions)\n",
    "    precision = precision_score(labels, predictions)\n",
    "    recall = recall_score(labels, predictions)\n",
    "\n",
    "    if printing:\n",
    "        print('\\n~~~~~Evaluation~~~~~\\n')\n",
    "        print(f'Mean loss: {mean_loss}')\n",
    "        print(f'Accuracy: {accuracy}')\n",
    "        print(f'F1-score: {f1}')\n",
    "        print(f'Precision: {precision}')\n",
    "        print(f'Recall: {recall}')\n",
    "        print(f'Confusion Matrix: \\n{confmatrix}')\n",
    "\n",
    "    if plotting:\n",
    "        fpr, tpr, thresholds = roc_curve(labels, probs) \n",
    "        roc_auc = auc(fpr, tpr)\n",
    "        plt.plot(fpr, tpr, label='ROC curve (area = %0.2f)' % roc_auc)\n",
    "        plt.plot([0, 1], [0, 1], 'k--', label='No Skill')\n",
    "        plt.xlim([0.0, 1.0])\n",
    "        plt.ylim([0.0, 1.05])\n",
    "        plt.xlabel('False Positive Rate')\n",
    "        plt.ylabel('True Positive Rate')\n",
    "        plt.title('ROC Curve')\n",
    "        plt.legend(loc='lower right')\n",
    "        plt.show()\n",
    "        \n",
    "    return f1, accuracy, mean_loss"
   ]
  },
  {
   "cell_type": "code",
   "execution_count": 9,
   "id": "e1a7daeb",
   "metadata": {
    "execution": {
     "iopub.execute_input": "2025-05-18T17:33:29.408866Z",
     "iopub.status.busy": "2025-05-18T17:33:29.408664Z",
     "iopub.status.idle": "2025-05-18T17:33:29.413921Z",
     "shell.execute_reply": "2025-05-18T17:33:29.413435Z"
    },
    "papermill": {
     "duration": 0.00994,
     "end_time": "2025-05-18T17:33:29.414851",
     "exception": false,
     "start_time": "2025-05-18T17:33:29.404911",
     "status": "completed"
    },
    "tags": []
   },
   "outputs": [],
   "source": [
    "def training(epochs, optimizer, dataloader, loss_fn, model, device, printing=True):\n",
    "    train_loss = []\n",
    "    val_loss = []\n",
    "    for epoch in range(epochs):\n",
    "        model.train()\n",
    "        losses = []\n",
    "        for (x, y) in dataloader:\n",
    "            x = x.to(device)\n",
    "            y = y.to(device)\n",
    "\n",
    "            pred = model(x)\n",
    "\n",
    "            loss = loss_fn(pred, y.unsqueeze(1).float())\n",
    "            losses.append(loss.item())\n",
    "\n",
    "            optimizer.zero_grad()\n",
    "            loss.backward()\n",
    "            optimizer.step()\n",
    "\n",
    "        train_loss.append(np.mean(losses))\n",
    "        _, _, val_loss_epoch = evaluation(val_dataloader, model, loss_fn, device, printing=False)\n",
    "        val_loss.append(val_loss_epoch)\n",
    "\n",
    "        if printing:\n",
    "            print(f'Epoch {epoch:<2} : Loss = {np.mean(losses)}')\n",
    "       \n",
    "    plt.plot(train_loss, label='Train Loss')\n",
    "    plt.plot(val_loss, label='Validation Loss')\n",
    "    plt.xlabel('Epochs')\n",
    "    plt.ylabel('Loss')\n",
    "    plt.title('Loss Plot')\n",
    "    plt.legend()\n",
    "    plt.show()\n",
    "\n",
    "    return model"
   ]
  },
  {
   "cell_type": "markdown",
   "id": "134d0a6d",
   "metadata": {},
   "source": [
    "We implement a simple model as the baseline model"
   ]
  },
  {
   "cell_type": "code",
   "execution_count": 10,
   "id": "ecd5e692",
   "metadata": {
    "execution": {
     "iopub.execute_input": "2025-05-18T17:33:29.422166Z",
     "iopub.status.busy": "2025-05-18T17:33:29.421964Z",
     "iopub.status.idle": "2025-05-18T17:33:29.425455Z",
     "shell.execute_reply": "2025-05-18T17:33:29.424970Z"
    },
    "papermill": {
     "duration": 0.00821,
     "end_time": "2025-05-18T17:33:29.426410",
     "exception": false,
     "start_time": "2025-05-18T17:33:29.418200",
     "status": "completed"
    },
    "tags": []
   },
   "outputs": [],
   "source": [
    "class BaseNN(nn.Module):\n",
    "    def __init__(self):\n",
    "        super().__init__()\n",
    "        self.linear_stack = nn.Sequential(\n",
    "            nn.Linear(200, 1)\n",
    "        )\n",
    "\n",
    "    def forward(self, x):\n",
    "        out = self.linear_stack(x)\n",
    "        return out"
   ]
  },
  {
   "cell_type": "code",
   "execution_count": 11,
   "id": "2e43d8fa",
   "metadata": {
    "execution": {
     "iopub.execute_input": "2025-05-18T17:33:29.433874Z",
     "iopub.status.busy": "2025-05-18T17:33:29.433679Z",
     "iopub.status.idle": "2025-05-18T17:33:43.740306Z",
     "shell.execute_reply": "2025-05-18T17:33:43.739494Z"
    },
    "papermill": {
     "duration": 14.311609,
     "end_time": "2025-05-18T17:33:43.741370",
     "exception": false,
     "start_time": "2025-05-18T17:33:29.429761",
     "status": "completed"
    },
    "tags": []
   },
   "outputs": [
    {
     "name": "stdout",
     "output_type": "stream",
     "text": [
      "Epoch 0  : Loss = 0.6828109922080204\n",
      "Epoch 1  : Loss = 0.6650722030935616\n",
      "Epoch 2  : Loss = 0.6506239007259237\n",
      "Epoch 3  : Loss = 0.638513812525519\n",
      "Epoch 4  : Loss = 0.6281314812857529\n"
     ]
    },
    {
     "data": {
      "image/png": "[encoded data removed]",
      "text/plain": [
       "<Figure size 640x480 with 1 Axes>"
      ]
     },
     "metadata": {},
     "output_type": "display_data"
    },
    {
     "name": "stdout",
     "output_type": "stream",
     "text": [
      "\n",
      "~~~~~Evaluation~~~~~\n",
      "\n",
      "Mean loss: 0.6223784003938947\n",
      "Accuracy: 0.7047362958769695\n",
      "F1-score: 0.690608007909046\n",
      "Precision: 0.7253517470536317\n",
      "Recall: 0.659040520779282\n",
      "Confusion Matrix: \n",
      "[[15907  5290]\n",
      " [ 7228 13971]]\n"
     ]
    },
    {
     "data": {
      "image/png": "[encoded data removed]",
      "text/plain": [
       "<Figure size 640x480 with 1 Axes>"
      ]
     },
     "metadata": {},
     "output_type": "display_data"
    }
   ],
   "source": [
    "device = 'cuda'\n",
    "# device = 'cuda' if torch.cuda.is_available() else 'cpu'\n",
    "torch_seed(13)\n",
    "\n",
    "learning_rate = 0.001\n",
    "epochs = 5\n",
    "loss_fn = nn.BCEWithLogitsLoss()\n",
    "\n",
    "model = BaseNN().to(device)\n",
    "\n",
    "optimizer = torch.optim.Adam(model.parameters(), lr=learning_rate)\n",
    "\n",
    "model = training(epochs, optimizer, train_dataloader, loss_fn, model, device, val_dataloader)\n",
    "\n",
    "_ = evaluation(val_dataloader, model, loss_fn, device, True, True)"
   ]
  },
  {
   "cell_type": "markdown",
   "id": "66c66dbd",
   "metadata": {
    "papermill": {
     "duration": 0.004623,
     "end_time": "2025-05-18T17:33:43.751231",
     "exception": false,
     "start_time": "2025-05-18T17:33:43.746608",
     "status": "completed"
    },
    "tags": []
   },
   "source": [
    "## Final Model\n",
    "\n",
    "We redefine the training function so that it returns the the model that has the best f1 score in its epoch. This way we stop the model before overfitting.\n",
    "We also define the testing function which predicts the labels for the test set and it saves them to the submission.csv"
   ]
  },
  {
   "cell_type": "code",
   "execution_count": 12,
   "id": "3b59391a",
   "metadata": {
    "execution": {
     "iopub.execute_input": "2025-05-18T17:33:43.762704Z",
     "iopub.status.busy": "2025-05-18T17:33:43.762276Z",
     "iopub.status.idle": "2025-05-18T17:33:43.769779Z",
     "shell.execute_reply": "2025-05-18T17:33:43.769235Z"
    },
    "papermill": {
     "duration": 0.014121,
     "end_time": "2025-05-18T17:33:43.770758",
     "exception": false,
     "start_time": "2025-05-18T17:33:43.756637",
     "status": "completed"
    },
    "tags": []
   },
   "outputs": [],
   "source": [
    "def training(epochs, optimizer, dataloader, loss_fn, model, device, val_dataloader, printing=True, trial=None, plotting=False):\n",
    "    best_model = None\n",
    "    best_f1 = -1\n",
    "    best_epoch = 0\n",
    "    train_loss = []\n",
    "    val_loss = []\n",
    "    for epoch in range(epochs):\n",
    "        model.train()\n",
    "        losses = []\n",
    "        for (x, y) in dataloader:\n",
    "            x = x.to(device)\n",
    "            y = y.to(device)\n",
    "\n",
    "            pred = model(x)\n",
    "\n",
    "            loss = loss_fn(pred, y.unsqueeze(1).float())\n",
    "            losses.append(loss.item())\n",
    "\n",
    "            optimizer.zero_grad()\n",
    "            loss.backward()\n",
    "            optimizer.step()\n",
    "\n",
    "        train_loss.append(np.mean(losses))\n",
    "        f1, acc, val_loss_epoch = evaluation(val_dataloader, model, loss_fn, device, printing=False)\n",
    "        val_loss.append(val_loss_epoch)\n",
    "\n",
    "        if f1 > best_f1:\n",
    "            best_f1 = f1\n",
    "            best_epoch = epoch\n",
    "            best_model = model\n",
    "        if printing:\n",
    "            print(f'Epoch {epoch:<2} : Loss = {np.mean(losses)}')\n",
    "\n",
    "        if trial is not None:\n",
    "            trial.report(acc, epoch)\n",
    "            if trial.should_prune():\n",
    "                raise optuna.TrialPruned()\n",
    "    if printing:\n",
    "        print(f'Best epoch: {best_epoch} - best f1: {best_f1}')\n",
    "\n",
    "    if plotting:\n",
    "        plt.plot(train_loss, label='Train Loss')\n",
    "        plt.plot(val_loss, label='Validation Loss')\n",
    "        plt.xlabel('Epochs')\n",
    "        plt.ylabel('Loss')\n",
    "        plt.title('Loss Plot')\n",
    "        plt.legend()\n",
    "        plt.show()\n",
    "\n",
    "    return best_model"
   ]
  },
  {
   "cell_type": "code",
   "execution_count": 13,
   "id": "70fef2e1",
   "metadata": {
    "execution": {
     "iopub.execute_input": "2025-05-18T17:33:43.780892Z",
     "iopub.status.busy": "2025-05-18T17:33:43.780680Z",
     "iopub.status.idle": "2025-05-18T17:33:43.784785Z",
     "shell.execute_reply": "2025-05-18T17:33:43.784274Z"
    },
    "papermill": {
     "duration": 0.010299,
     "end_time": "2025-05-18T17:33:43.785777",
     "exception": false,
     "start_time": "2025-05-18T17:33:43.775478",
     "status": "completed"
    },
    "tags": []
   },
   "outputs": [],
   "source": [
    "def testing(dataloader, model, device, df):\n",
    "    model.eval()\n",
    "\n",
    "    predictions = []\n",
    "\n",
    "    with torch.no_grad():\n",
    "      for x in dataloader:\n",
    "        x = x.to(device)\n",
    "        pred = model(x)\n",
    "        pred = torch.sigmoid(pred).squeeze(1)\n",
    "        predictions.extend(torch.round(pred).int().cpu().numpy())\n",
    "        \n",
    "    output = pd.DataFrame(df['ID'])\n",
    "    output['Label'] = predictions\n",
    "    output.to_csv('submission.csv', index=False)"
   ]
  },
  {
   "cell_type": "markdown",
   "id": "b70747d6",
   "metadata": {
    "papermill": {
     "duration": 0.00457,
     "end_time": "2025-05-18T17:33:43.795063",
     "exception": false,
     "start_time": "2025-05-18T17:33:43.790493",
     "status": "completed"
    },
    "tags": []
   },
   "source": [
    "Below we implement the best model we found through hyper-parameter tuning (the code is at the bottom of the notebook)."
   ]
  },
  {
   "cell_type": "code",
   "execution_count": 14,
   "id": "434ed520",
   "metadata": {
    "execution": {
     "iopub.execute_input": "2025-05-18T17:33:43.805286Z",
     "iopub.status.busy": "2025-05-18T17:33:43.805084Z",
     "iopub.status.idle": "2025-05-18T17:33:43.809199Z",
     "shell.execute_reply": "2025-05-18T17:33:43.808661Z"
    },
    "papermill": {
     "duration": 0.010394,
     "end_time": "2025-05-18T17:33:43.810167",
     "exception": false,
     "start_time": "2025-05-18T17:33:43.799773",
     "status": "completed"
    },
    "tags": []
   },
   "outputs": [],
   "source": [
    "class FFNN(nn.Module):\n",
    "    def __init__(self):\n",
    "        super().__init__()\n",
    "        self.linear_stack = nn.Sequential(\n",
    "            nn.Linear(200, 128),\n",
    "            nn.ReLU(),\n",
    "            nn.Dropout(0.3),\n",
    "            nn.Linear(128, 64),\n",
    "            nn.ReLU(),\n",
    "            nn.Dropout(0.3),\n",
    "            nn.Linear(64, 1)\n",
    "        )\n",
    "\n",
    "    def forward(self, x):\n",
    "        out = self.linear_stack(x)\n",
    "        return out"
   ]
  },
  {
   "cell_type": "code",
   "execution_count": 15,
   "id": "db929184",
   "metadata": {
    "execution": {
     "iopub.execute_input": "2025-05-18T17:33:43.820308Z",
     "iopub.status.busy": "2025-05-18T17:33:43.820110Z",
     "iopub.status.idle": "2025-05-18T17:35:14.728282Z",
     "shell.execute_reply": "2025-05-18T17:35:14.727674Z"
    },
    "papermill": {
     "duration": 90.914752,
     "end_time": "2025-05-18T17:35:14.729629",
     "exception": false,
     "start_time": "2025-05-18T17:33:43.814877",
     "status": "completed"
    },
    "tags": []
   },
   "outputs": [
    {
     "name": "stdout",
     "output_type": "stream",
     "text": [
      "Epoch 0  : Loss = 0.5810320646598421\n",
      "Epoch 1  : Loss = 0.4942335800877933\n",
      "Epoch 2  : Loss = 0.48373098291199784\n",
      "Epoch 3  : Loss = 0.4781980004803888\n",
      "Epoch 4  : Loss = 0.4753981493670365\n",
      "Epoch 5  : Loss = 0.4710823422875898\n",
      "Epoch 6  : Loss = 0.46841624543584626\n",
      "Epoch 7  : Loss = 0.46765163951906663\n",
      "Epoch 8  : Loss = 0.4642426055053185\n",
      "Epoch 9  : Loss = 0.4626853285164669\n",
      "Epoch 10 : Loss = 0.46113267150418513\n",
      "Epoch 11 : Loss = 0.45883644634279713\n",
      "Epoch 12 : Loss = 0.45663284433299095\n",
      "Epoch 13 : Loss = 0.45522336096599186\n",
      "Epoch 14 : Loss = 0.45309553310788914\n",
      "Epoch 15 : Loss = 0.45161302994037494\n",
      "Epoch 16 : Loss = 0.4508477728942345\n",
      "Epoch 17 : Loss = 0.4497717456570987\n",
      "Epoch 18 : Loss = 0.44791653176833846\n",
      "Epoch 19 : Loss = 0.4457391360710407\n",
      "Epoch 20 : Loss = 0.44497807210889356\n",
      "Epoch 21 : Loss = 0.4438978160249776\n",
      "Epoch 22 : Loss = 0.4433798097330948\n",
      "Epoch 23 : Loss = 0.44168078180017145\n",
      "Epoch 24 : Loss = 0.439293935381133\n",
      "Epoch 25 : Loss = 0.4386477564943248\n",
      "Epoch 26 : Loss = 0.43709979961658346\n",
      "Epoch 27 : Loss = 0.43669272167929285\n",
      "Epoch 28 : Loss = 0.4345510287531491\n",
      "Epoch 29 : Loss = 0.4339816066725501\n",
      "Epoch 30 : Loss = 0.433576128195072\n",
      "Epoch 31 : Loss = 0.4321917313953926\n",
      "Epoch 32 : Loss = 0.4319874999852016\n",
      "Epoch 33 : Loss = 0.4296774631944196\n",
      "Epoch 34 : Loss = 0.4291556660471291\n",
      "Epoch 35 : Loss = 0.4276732870217027\n",
      "Epoch 36 : Loss = 0.4276913161935477\n",
      "Epoch 37 : Loss = 0.4274162500069059\n",
      "Epoch 38 : Loss = 0.4256456640259973\n",
      "Epoch 39 : Loss = 0.4256304549759832\n",
      "Epoch 40 : Loss = 0.4226824571346415\n",
      "Epoch 41 : Loss = 0.42354776222130347\n",
      "Epoch 42 : Loss = 0.4217927774478649\n",
      "Epoch 43 : Loss = 0.42160689666353424\n",
      "Epoch 44 : Loss = 0.42058176192744023\n",
      "Epoch 45 : Loss = 0.42071480381077736\n",
      "Epoch 46 : Loss = 0.4190873104950477\n",
      "Epoch 47 : Loss = 0.41888858573190096\n",
      "Epoch 48 : Loss = 0.4176058302665579\n",
      "Epoch 49 : Loss = 0.415346524427677\n",
      "Best epoch: 44 - best f1: 0.7900229304132155\n"
     ]
    },
    {
     "data": {
      "image/png": "[encoded data removed]",
      "text/plain": [
       "<Figure size 640x480 with 1 Axes>"
      ]
     },
     "metadata": {},
     "output_type": "display_data"
    },
    {
     "name": "stdout",
     "output_type": "stream",
     "text": [
      "\n",
      "~~~~~Evaluation~~~~~\n",
      "\n",
      "Mean loss: 0.44662981799670626\n",
      "Accuracy: 0.7867959241437872\n",
      "F1-score: 0.7826275160522329\n",
      "Precision: 0.7982731554160125\n",
      "Recall: 0.7675833765743667\n",
      "Confusion Matrix: \n",
      "[[17085  4112]\n",
      " [ 4927 16272]]\n"
     ]
    },
    {
     "data": {
      "image/png": "[encoded data removed]",
      "text/plain": [
       "<Figure size 640x480 with 1 Axes>"
      ]
     },
     "metadata": {},
     "output_type": "display_data"
    }
   ],
   "source": [
    "device = 'cuda'\n",
    "# device = 'cuda' if torch.cuda.is_available() else 'cpu'\n",
    "torch_seed(13)\n",
    "\n",
    "learning_rate = 0.001\n",
    "epochs = 50\n",
    "loss_fn = nn.BCEWithLogitsLoss()\n",
    "\n",
    "model = FFNN().to(device)\n",
    "\n",
    "optimizer = torch.optim.AdamW(model.parameters(), lr=learning_rate)\n",
    "\n",
    "model = training(epochs, optimizer, train_dataloader, loss_fn, model, device, val_dataloader, printing=True, plotting=True)\n",
    "\n",
    "_ = evaluation(val_dataloader, model, loss_fn, device, True, True)\n",
    "testing(test_dataloader, model, device, test_data)"
   ]
  },
  {
   "cell_type": "markdown",
   "id": "3db8beca",
   "metadata": {
    "papermill": {
     "duration": 0.007485,
     "end_time": "2025-05-18T17:35:14.745718",
     "exception": false,
     "start_time": "2025-05-18T17:35:14.738233",
     "status": "completed"
    },
    "tags": []
   },
   "source": [
    "## Hyper-parameter tuning\n",
    "\n",
    "Below is the code for the hyper-parameter tuning using the optuna framework. We define a new model, that has an input of a linear stack, as we are tuning the architecture of the model as well as the optimizer."
   ]
  },
  {
   "cell_type": "code",
   "execution_count": null,
   "id": "6f07f50b",
   "metadata": {
    "execution": {
     "iopub.execute_input": "2025-05-18T17:35:14.762059Z",
     "iopub.status.busy": "2025-05-18T17:35:14.761547Z",
     "iopub.status.idle": "2025-05-18T17:35:14.765653Z",
     "shell.execute_reply": "2025-05-18T17:35:14.764991Z"
    },
    "papermill": {
     "duration": 0.013462,
     "end_time": "2025-05-18T17:35:14.766696",
     "exception": false,
     "start_time": "2025-05-18T17:35:14.753234",
     "status": "completed"
    },
    "tags": []
   },
   "outputs": [],
   "source": [
    "# class OFNN(nn.Module):\n",
    "#     def __init__(self, stack):\n",
    "#         super().__init__()\n",
    "#         self.linear_stack = stack\n",
    "\n",
    "#     def forward(self, x):\n",
    "#         out = self.linear_stack(x)\n",
    "#         return out\n",
    "\n",
    "# warnings.filterwarnings(\"ignore\", category=UserWarning)\n",
    "\n",
    "# def create_model(trial):\n",
    "#     n_layers = trial.suggest_int('n_layers', 1, 2)\n",
    "#     # activation = trial.suggest_categorical('activation', [nn.ReLU, nn.LeakyReLU, nn.Sigmoid, nn.Tanh, nn.SiLU])\n",
    "#     activation = nn.ReLU\n",
    "#     layers = []\n",
    "#     div = trial.suggest_categorical('div', [2, 4])\n",
    "#     dropout = trial.suggest_float('dropout', 0.0, 0.3, step=0.1)\n",
    "#     batchn = trial.suggest_categorical('batchnorm', [True, False])\n",
    "#     in_size = 200\n",
    "#     out_size = trial.suggest_categorical('h1', [64, 128, 256])\n",
    "#     for i in range(n_layers):\n",
    "#         layers.append(nn.Linear(in_size, out_size))\n",
    "#         layers.append(activation())\n",
    "#         layers.append(nn.Dropout(dropout))\n",
    "#         if batchn:\n",
    "#             layers.append(nn.BatchNorm1d(out_size))\n",
    "#         in_size = out_size\n",
    "#         out_size = int(in_size/div)\n",
    "#     layers.append(nn.Linear(in_size, 1))\n",
    "\n",
    "#     return nn.Sequential(*layers)\n",
    "\n",
    "# def objective(trial):\n",
    "#     device = 'cuda'\n",
    "#     torch_seed(13)\n",
    "#     epochs = 40\n",
    "#     loss_fn = nn.BCEWithLogitsLoss()\n",
    "\n",
    "#     model = OFNN(create_model(trial)).to(device)\n",
    "    \n",
    "#     # opt = trial.suggest_categorical('optimizer', [torch.optim.Adagrad, torch.optim.Adam, torch.optim.AdamW, torch.optim.Adamax, torch.optim.NAdam, torch.optim.RAdam])\n",
    "#     opt = trial.suggest_categorical('optimizer', [torch.optim.AdamW, torch.optim.Adamax, torch.optim.NAdam, torch.optim.RAdam])\n",
    "#     optimizer = opt(model.parameters(), lr=0.001)\n",
    "\n",
    "#     bestmodel = training(epochs, optimizer, train_dataloader, loss_fn, model, device, val_dataloader, False, trial)\n",
    "#     _, acc = evaluation(val_dataloader, bestmodel, loss_fn, device, False)\n",
    "    \n",
    "#     return acc\n",
    "\n",
    "# pruner = optuna.pruners.MedianPruner(n_startup_trials=50, n_warmup_steps=10, n_min_trials=40)\n",
    "# sampler = optuna.samplers.TPESampler(multivariate=True, seed=13)\n",
    "# study = optuna.create_study(direction='maximize', pruner=pruner, sampler=sampler)\n",
    "\n",
    "# study.optimize(objective, n_trials=300, show_progress_bar=True, gc_after_trial=True)\n",
    "\n",
    "# print('Best accuracy: ', study.best_trial.value)\n",
    "# print('Best trial: ', study.best_trial.params)"
   ]
  }
 ],
 "metadata": {
  "kaggle": {
   "accelerator": "nvidiaTeslaT4",
   "dataSources": [
    {
     "databundleVersionId": 11446837,
     "sourceId": 96317,
     "sourceType": "competition"
    },
    {
     "datasetId": 7318481,
     "sourceId": 11661651,
     "sourceType": "datasetVersion"
    }
   ],
   "dockerImageVersionId": 31012,
   "isGpuEnabled": true,
   "isInternetEnabled": true,
   "language": "python",
   "sourceType": "notebook"
  },
  "kernelspec": {
   "display_name": "ai2",
   "language": "python",
   "name": "python3"
  },
  "language_info": {
   "codemirror_mode": {
    "name": "ipython",
    "version": 3
   },
   "file_extension": ".py",
   "mimetype": "text/x-python",
   "name": "python",
   "nbconvert_exporter": "python",
   "pygments_lexer": "ipython3",
   "version": "3.11.11"
  },
  "papermill": {
   "default_parameters": {},
   "duration": 353.370155,
   "end_time": "2025-05-18T17:35:17.999134",
   "environment_variables": {},
   "exception": null,
   "input_path": "__notebook__.ipynb",
   "output_path": "__notebook__.ipynb",
   "parameters": {},
   "start_time": "2025-05-18T17:29:24.628979",
   "version": "2.6.0"
  }
 },
 "nbformat": 4,
 "nbformat_minor": 5
}
